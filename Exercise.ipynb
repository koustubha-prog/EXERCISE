{
 "cells": [
  {
   "cell_type": "markdown",
   "id": "outer-drove",
   "metadata": {},
   "source": [
    "# Evaluation Exercise\n",
    "### Data Science Internship at BlobCity\n",
    "\n",
    "This is a pre-qualification round for Data Science internship at BlobCity. You are required to complete this small exercise. Successful completion of the same, will be followed with a telephonic interview round. If you pass both, the internship position is yours to take. We are currently selecting 20 interns, but are open to selecting more. Final year students stand a chance of their internship being graduated into a full time employment starting July 2021.  \n",
    "\n",
    "For ease of evaluation, please create a Cloudbook on BlobCity, complete this code, and email us a link to your Cloudbook to team@blobcity.com. Please write subject line on the email as \"Data Science Internship\".\n",
    "\n",
    "PLEASE DO NOT ATTACH THE IPYNB FILE ON THE EMAIL, JUST DIRECTLY SHARE THE LINK OF YOUR CLOUDBOOK. This makes it easy for us to evaluate your submission."
   ]
  },
  {
   "cell_type": "code",
   "execution_count": 1,
   "id": "small-booth",
   "metadata": {},
   "outputs": [
    {
     "name": "stdout",
     "output_type": "stream",
     "text": [
      "Collecting numpy\n",
      "  Using cached numpy-1.20.2-cp38-cp38-manylinux2010_x86_64.whl (15.4 MB)\n",
      "Installing collected packages: numpy\n",
      "Successfully installed numpy-1.20.2\n",
      "Note: you may need to restart the kernel to use updated packages.\n"
     ]
    }
   ],
   "source": [
    "pip install numpy"
   ]
  },
  {
   "cell_type": "code",
   "execution_count": 2,
   "id": "developmental-nature",
   "metadata": {},
   "outputs": [],
   "source": [
    "import numpy as np"
   ]
  },
  {
   "cell_type": "code",
   "execution_count": 3,
   "id": "expired-columbia",
   "metadata": {},
   "outputs": [],
   "source": [
    "a = [0,1,2,3,4]\n",
    "b = [5,6,7,8,9]"
   ]
  },
  {
   "cell_type": "markdown",
   "id": "convertible-league",
   "metadata": {},
   "source": [
    "**Problem 1**\n",
    "\n",
    "Write code in the below block toconcatenate the 2 arrays `a` and `b` and print the concatenated array. Desired output shown below"
   ]
  },
  {
   "cell_type": "code",
   "execution_count": 3,
   "id": "peaceful-indication",
   "metadata": {},
   "outputs": [
    {
     "name": "stdout",
     "output_type": "stream",
     "text": [
      "[0 1 2 3 4 5 6 7 8 9]\n"
     ]
    }
   ],
   "source": [
    "\n",
    "arr1 = np.array( [0,1,2,3,4])\n",
    "\n",
    "arr2 = np.array([5,6,7,8,9])\n",
    "\n",
    "arr = np.concatenate((arr1, arr2))\n",
    "\n",
    "print(arr)\n"
   ]
  },
  {
   "cell_type": "markdown",
   "id": "nasty-jurisdiction",
   "metadata": {},
   "source": [
    "**Problem 2**\n",
    "\n",
    "Write code in the below block to create a 3rd array, which contains an element wise sum of `a` and `b`. Set this new array to a variable called `c`.\n",
    "\n",
    "Hint: Use the `np.array()` function to convert data into more manageable vectors\n",
    "\n",
    "Desired output shown below"
   ]
  },
  {
   "cell_type": "code",
   "execution_count": 4,
   "id": "vulnerable-stamp",
   "metadata": {},
   "outputs": [
    {
     "name": "stdout",
     "output_type": "stream",
     "text": [
      "1st Input array :  [0 1 2 3 4]\n",
      "2nd Input array :  [5 6 7 8 9]\n",
      "output added array :  [ 5  7  9 11 13]\n"
     ]
    }
   ],
   "source": [
    "import numpy as np\n",
    "  \n",
    "a = np.array( [0,1,2,3,4])\n",
    "\n",
    "b = np.array([5,6,7,8,9])\n",
    "   \n",
    "print (\"1st Input array : \", a) \n",
    "print (\"2nd Input array : \", b) \n",
    "    \n",
    "c = np.add(a,b) \n",
    "print (\"output added array : \", c) "
   ]
  },
  {
   "cell_type": "markdown",
   "id": "collectible-manufacturer",
   "metadata": {},
   "source": [
    "**Problem 3**\n",
    "\n",
    "Add unity to each of the elements of array `c`. \n",
    "\n",
    "Hint: use `np.ones()`\n",
    "\n",
    "The desired output is shown below. "
   ]
  },
  {
   "cell_type": "code",
   "execution_count": 7,
   "id": "silent-fourth",
   "metadata": {},
   "outputs": [
    {
     "name": "stdout",
     "output_type": "stream",
     "text": [
      "1st Input array :  [0 1 2 3 4]\n",
      "2nd Input array :  [5 6 7 8 9]\n",
      "output added array :  [ 5  7  9 11 13]\n",
      "output added array :  [ 6  8 10 12 14]\n"
     ]
    }
   ],
   "source": [
    "import numpy as np\n",
    "  \n",
    "a = np.array( [0,1,2,3,4])\n",
    "\n",
    "b = np.array([5,6,7,8,9])\n",
    "   \n",
    "print (\"1st Input array : \", a) \n",
    "print (\"2nd Input array : \", b) \n",
    "    \n",
    "c = np.add(a,b)\n",
    "d = np.add(c,1)\n",
    "\n",
    "\n",
    "\n",
    "print (\"output added array : \", c)\n",
    "print (\"output added array : \", d)\n",
    "\n"
   ]
  },
  {
   "cell_type": "code",
   "execution_count": 12,
   "id": "magnetic-domestic",
   "metadata": {},
   "outputs": [
    {
     "name": "stdout",
     "output_type": "stream",
     "text": [
      "1st Input array :  [0 1 2 3 4]\n",
      "2nd Input array :  [5 6 7 8 9]\n",
      "output added array :  [ 5  7  9 11 13]\n",
      "output added array :  [1.]\n",
      "output added array :  [ 6.  8. 10. 12. 14.]\n"
     ]
    }
   ],
   "source": [
    "\n",
    "import numpy as np\n",
    "  \n",
    "a = np.array( [0,1,2,3,4])\n",
    "\n",
    "b = np.array([5,6,7,8,9])\n",
    "   \n",
    "print (\"1st Input array : \", a) \n",
    "print (\"2nd Input array : \", b) \n",
    "    \n",
    "c = np.add(a,b)\n",
    "d = np.ones(1)\n",
    "\n",
    "e= np.add(c,d)\n",
    "\n",
    "\n",
    "\n",
    "print (\"output added array : \", c)\n",
    "print (\"output added array : \", d)\n",
    "print (\"output added array : \", e)\n",
    "\n",
    "\n"
   ]
  },
  {
   "cell_type": "code",
   "execution_count": null,
   "id": "certain-series",
   "metadata": {},
   "outputs": [],
   "source": []
  }
 ],
 "metadata": {
  "kernelspec": {
   "display_name": "Python 3",
   "language": "python",
   "name": "python3"
  },
  "language_info": {
   "codemirror_mode": {
    "name": "ipython",
    "version": 3
   },
   "file_extension": ".py",
   "mimetype": "text/x-python",
   "name": "python",
   "nbconvert_exporter": "python",
   "pygments_lexer": "ipython3",
   "version": "3.8.8"
  }
 },
 "nbformat": 4,
 "nbformat_minor": 5
}
